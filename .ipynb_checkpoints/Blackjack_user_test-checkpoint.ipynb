{
 "cells": [
  {
   "cell_type": "code",
   "execution_count": 42,
   "metadata": {},
   "outputs": [
    {
     "name": "stdout",
     "output_type": "stream",
     "text": [
      "Initial score: 15\n",
      "Dealer Face up card 2\n",
      "Ação tomada: 0\n",
      "New_score 15\n",
      "\n",
      "\n",
      "done\n",
      "Final result:\n",
      "  Your score: 15\n",
      "  Dealer face up card: 2\n",
      "  Reward:-1\n"
     ]
    }
   ],
   "source": [
    "import gym\n",
    "env=gym.make('Blackjack-v0')\n",
    "\n",
    "state = env.reset()\n",
    "\n",
    "print('Initial score: %d' % (Initial_state[0]))\n",
    "print('Dealer Face up card %d' % (Initial_state[1]))\n",
    "\n",
    "done = False\n",
    "\n",
    "while not done: \n",
    "\n",
    "    A=env.action_space.sample(); \n",
    "    \n",
    "    print('Ação tomada:',A)\n",
    "    \n",
    "    state, reward, done, info = env.step(A)\n",
    "\n",
    "    print('New_score',state[0])\n",
    "    \n",
    "    print('\\n')\n",
    "    \n",
    "print('done')\n",
    "\n",
    "print('Final result:\\n  Your score: %d\\n  Dealer face up card: %d\\n  Reward:%d'% (new_state[0],new_state[1],reward))\n",
    "    \n",
    "env.close()"
   ]
  },
  {
   "cell_type": "code",
   "execution_count": 2,
   "metadata": {},
   "outputs": [],
   "source": []
  }
 ],
 "metadata": {
  "kernelspec": {
   "display_name": "Python 3",
   "language": "python",
   "name": "python3"
  },
  "language_info": {
   "codemirror_mode": {
    "name": "ipython",
    "version": 3
   },
   "file_extension": ".py",
   "mimetype": "text/x-python",
   "name": "python",
   "nbconvert_exporter": "python",
   "pygments_lexer": "ipython3",
   "version": "3.7.4"
  }
 },
 "nbformat": 4,
 "nbformat_minor": 2
}
