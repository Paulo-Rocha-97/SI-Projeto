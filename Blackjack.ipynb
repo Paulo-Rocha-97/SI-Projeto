{
 "cells": [
  {
   "cell_type": "code",
   "execution_count": 1,
   "metadata": {},
   "outputs": [
    {
     "name": "stdout",
     "output_type": "stream",
     "text": [
      "Initial score: 20\n",
      "Dealer Face up card 5\n",
      "\n",
      "Action to be made ( 1 - Hit ; O - Stand) :0\n",
      "\n",
      "New_score: 20\n",
      "\n",
      "Final result:\n",
      "  Your score: 20\n",
      "  Dealer's score: 24\n",
      "  Reward:1\n"
     ]
    }
   ],
   "source": [
    "import gym\n",
    "env=gym.make('Blackjack-v0')\n",
    "\n",
    "state = env.reset()\n",
    "\n",
    "print('Initial score: %d' % (state[0]))\n",
    "print('Dealer Face up card %d' % (state[1]))\n",
    "\n",
    "done = False\n",
    "\n",
    "while not done: \n",
    "\n",
    "    txt=input('\\nAction to be made ( 1 - Hit ; O - Stand) :')\n",
    "    \n",
    "    A=int(txt)\n",
    "    \n",
    "    state, reward, done, info = env.step(A)\n",
    "\n",
    "    print('\\nNew_score:',state[0])\n",
    "    \n",
    "print('\\nFinal result:\\n  Your score: %d\\n  Dealer\\'s score: %d\\n  Reward:%d'% (state[0],state[2],reward))\n",
    "    \n",
    "env.close()"
   ]
  }
 ],
 "metadata": {
  "kernelspec": {
   "display_name": "Python 3",
   "language": "python",
   "name": "python3"
  },
  "language_info": {
   "codemirror_mode": {
    "name": "ipython",
    "version": 3
   },
   "file_extension": ".py",
   "mimetype": "text/x-python",
   "name": "python",
   "nbconvert_exporter": "python",
   "pygments_lexer": "ipython3",
   "version": "3.7.4"
  }
 },
 "nbformat": 4,
 "nbformat_minor": 2
}
